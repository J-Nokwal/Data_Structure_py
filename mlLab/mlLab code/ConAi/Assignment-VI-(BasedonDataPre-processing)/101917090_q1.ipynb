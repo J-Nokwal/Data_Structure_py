{
 "cells": [
  {
   "cell_type": "code",
   "execution_count": 2,
   "id": "eefd0574",
   "metadata": {},
   "outputs": [],
   "source": [
    "import numpy as np\n",
    "import pandas as pd"
   ]
  },
  {
   "cell_type": "code",
   "execution_count": 1,
   "id": "69775975",
   "metadata": {},
   "outputs": [],
   "source": [
    "Outlook = ['sunny','sunny','overcast','rain','rain','rain','overcast','sunny','sunny','rain','sunny','overcast','overcast','rain']\n",
    "Temperature = [85,80,83,70,68,65,64,72,69,75,75,72,81,71]\n",
    "Humidity = [85,90,78,96,80,70,65,95,70,80,70,90,75,80]\n",
    "Windy = [False,True,False,False,False,True,True,False,False,False,True,True,False,True]\n",
    "Play = ['no','no','yes','yes','yes','no','yes','no','yes','yes','yes','yes','yes','no']"
   ]
  },
  {
   "cell_type": "code",
   "execution_count": 4,
   "id": "7b3a7826",
   "metadata": {},
   "outputs": [],
   "source": [
    "df = pd.DataFrame([Outlook,Temperature,Humidity,Windy,Play]).T\n",
    "df.columns=['Outlook', 'Temperature', 'Humidity','Windy','Play']"
   ]
  },
  {
   "cell_type": "code",
   "execution_count": 5,
   "id": "be2c1ef0",
   "metadata": {},
   "outputs": [
    {
     "data": {
      "text/html": [
       "<div>\n",
       "<style scoped>\n",
       "    .dataframe tbody tr th:only-of-type {\n",
       "        vertical-align: middle;\n",
       "    }\n",
       "\n",
       "    .dataframe tbody tr th {\n",
       "        vertical-align: top;\n",
       "    }\n",
       "\n",
       "    .dataframe thead th {\n",
       "        text-align: right;\n",
       "    }\n",
       "</style>\n",
       "<table border=\"1\" class=\"dataframe\">\n",
       "  <thead>\n",
       "    <tr style=\"text-align: right;\">\n",
       "      <th></th>\n",
       "      <th>Outlook</th>\n",
       "      <th>Temperature</th>\n",
       "      <th>Humidity</th>\n",
       "      <th>Windy</th>\n",
       "      <th>Play</th>\n",
       "    </tr>\n",
       "  </thead>\n",
       "  <tbody>\n",
       "    <tr>\n",
       "      <th>0</th>\n",
       "      <td>sunny</td>\n",
       "      <td>85</td>\n",
       "      <td>85</td>\n",
       "      <td>False</td>\n",
       "      <td>no</td>\n",
       "    </tr>\n",
       "    <tr>\n",
       "      <th>1</th>\n",
       "      <td>sunny</td>\n",
       "      <td>80</td>\n",
       "      <td>90</td>\n",
       "      <td>True</td>\n",
       "      <td>no</td>\n",
       "    </tr>\n",
       "    <tr>\n",
       "      <th>2</th>\n",
       "      <td>overcast</td>\n",
       "      <td>83</td>\n",
       "      <td>78</td>\n",
       "      <td>False</td>\n",
       "      <td>yes</td>\n",
       "    </tr>\n",
       "    <tr>\n",
       "      <th>3</th>\n",
       "      <td>rain</td>\n",
       "      <td>70</td>\n",
       "      <td>96</td>\n",
       "      <td>False</td>\n",
       "      <td>yes</td>\n",
       "    </tr>\n",
       "    <tr>\n",
       "      <th>4</th>\n",
       "      <td>rain</td>\n",
       "      <td>68</td>\n",
       "      <td>80</td>\n",
       "      <td>False</td>\n",
       "      <td>yes</td>\n",
       "    </tr>\n",
       "    <tr>\n",
       "      <th>5</th>\n",
       "      <td>rain</td>\n",
       "      <td>65</td>\n",
       "      <td>70</td>\n",
       "      <td>True</td>\n",
       "      <td>no</td>\n",
       "    </tr>\n",
       "    <tr>\n",
       "      <th>6</th>\n",
       "      <td>overcast</td>\n",
       "      <td>64</td>\n",
       "      <td>65</td>\n",
       "      <td>True</td>\n",
       "      <td>yes</td>\n",
       "    </tr>\n",
       "    <tr>\n",
       "      <th>7</th>\n",
       "      <td>sunny</td>\n",
       "      <td>72</td>\n",
       "      <td>95</td>\n",
       "      <td>False</td>\n",
       "      <td>no</td>\n",
       "    </tr>\n",
       "    <tr>\n",
       "      <th>8</th>\n",
       "      <td>sunny</td>\n",
       "      <td>69</td>\n",
       "      <td>70</td>\n",
       "      <td>False</td>\n",
       "      <td>yes</td>\n",
       "    </tr>\n",
       "    <tr>\n",
       "      <th>9</th>\n",
       "      <td>rain</td>\n",
       "      <td>75</td>\n",
       "      <td>80</td>\n",
       "      <td>False</td>\n",
       "      <td>yes</td>\n",
       "    </tr>\n",
       "    <tr>\n",
       "      <th>10</th>\n",
       "      <td>sunny</td>\n",
       "      <td>75</td>\n",
       "      <td>70</td>\n",
       "      <td>True</td>\n",
       "      <td>yes</td>\n",
       "    </tr>\n",
       "    <tr>\n",
       "      <th>11</th>\n",
       "      <td>overcast</td>\n",
       "      <td>72</td>\n",
       "      <td>90</td>\n",
       "      <td>True</td>\n",
       "      <td>yes</td>\n",
       "    </tr>\n",
       "    <tr>\n",
       "      <th>12</th>\n",
       "      <td>overcast</td>\n",
       "      <td>81</td>\n",
       "      <td>75</td>\n",
       "      <td>False</td>\n",
       "      <td>yes</td>\n",
       "    </tr>\n",
       "    <tr>\n",
       "      <th>13</th>\n",
       "      <td>rain</td>\n",
       "      <td>71</td>\n",
       "      <td>80</td>\n",
       "      <td>True</td>\n",
       "      <td>no</td>\n",
       "    </tr>\n",
       "  </tbody>\n",
       "</table>\n",
       "</div>"
      ],
      "text/plain": [
       "     Outlook  Temperature  Humidity  Windy Play\n",
       "0      sunny           85        85  False   no\n",
       "1      sunny           80        90   True   no\n",
       "2   overcast           83        78  False  yes\n",
       "3       rain           70        96  False  yes\n",
       "4       rain           68        80  False  yes\n",
       "5       rain           65        70   True   no\n",
       "6   overcast           64        65   True  yes\n",
       "7      sunny           72        95  False   no\n",
       "8      sunny           69        70  False  yes\n",
       "9       rain           75        80  False  yes\n",
       "10     sunny           75        70   True  yes\n",
       "11  overcast           72        90   True  yes\n",
       "12  overcast           81        75  False  yes\n",
       "13      rain           71        80   True   no"
      ]
     },
     "execution_count": 5,
     "metadata": {},
     "output_type": "execute_result"
    }
   ],
   "source": [
    "df"
   ]
  },
  {
   "cell_type": "code",
   "execution_count": 6,
   "id": "4594d996",
   "metadata": {},
   "outputs": [],
   "source": [
    "def find_entropy(df):\n",
    "    entropy=0\n",
    "    Class=df.keys()[-1]\n",
    "    outcomes=df[Class].unique()\n",
    "    for outcome in outcomes:\n",
    "        prob=len(df[Class][df[Class]==outcome])/len(df)\n",
    "        entropy+= -(prob*np.log2(prob))\n",
    "    return entropy"
   ]
  },
  {
   "cell_type": "code",
   "execution_count": 7,
   "id": "3346caa1",
   "metadata": {},
   "outputs": [
    {
     "data": {
      "text/plain": [
       "0.9402859586706311"
      ]
     },
     "execution_count": 7,
     "metadata": {},
     "output_type": "execute_result"
    }
   ],
   "source": [
    "find_entropy(df)"
   ]
  },
  {
   "cell_type": "code",
   "execution_count": 8,
   "id": "520355e4",
   "metadata": {},
   "outputs": [],
   "source": [
    "def encode_binary(df, attribute):\n",
    "    optimal_gain = 0\n",
    "    optimal_val = 0\n",
    "    vals = list(set(df[attribute]))\n",
    "    vals.sort()\n",
    "    vals = vals[:-1]\n",
    "\n",
    "    for val in vals:\n",
    "        less_than_equal = df[df[attribute] <= val]\n",
    "        greater_than = df[df[attribute] > val]\n",
    "\n",
    "        entropy_less_than_equal = find_entropy(less_than_equal)\n",
    "        entropy_greater_than = find_entropy(greater_than)\n",
    "\n",
    "        num = len(df)\n",
    "        num_less_than_equal = len(less_than_equal)\n",
    "        num_greater_than = len(greater_than)\n",
    "        avg_info_entropy = (num_less_than_equal/num)*entropy_less_than_equal + (num_greater_than/num)*entropy_greater_than\n",
    "        info_gain = entropy - avg_info_entropy\n",
    "\n",
    "        num_less = num_less_than_equal/num\n",
    "        num_greater = num_greater_than/num\n",
    "        split_info = 0\n",
    "        if num_less != 0:\n",
    "            split_info -= num_less*np.log2(num_less)\n",
    "        if num_greater != 0:\n",
    "            split_info -= num_greater*np.log2(num_greater)\n",
    "\n",
    "        gain_ratio = info_gain/split_info\n",
    "\n",
    "        if gain_ratio > optimal_gain:\n",
    "            optimal_gain = gain_ratio\n",
    "            optimal_val = val\n",
    "\n",
    "    df[attribute] = df[attribute] > optimal_val\n",
    "    df.rename(columns = {attribute : attribute+' > '+str(optimal_val)}, inplace=True)\n",
    "\n",
    "    return df"
   ]
  },
  {
   "cell_type": "code",
   "execution_count": 9,
   "id": "5f377308",
   "metadata": {},
   "outputs": [
    {
     "data": {
      "text/html": [
       "<div>\n",
       "<style scoped>\n",
       "    .dataframe tbody tr th:only-of-type {\n",
       "        vertical-align: middle;\n",
       "    }\n",
       "\n",
       "    .dataframe tbody tr th {\n",
       "        vertical-align: top;\n",
       "    }\n",
       "\n",
       "    .dataframe thead th {\n",
       "        text-align: right;\n",
       "    }\n",
       "</style>\n",
       "<table border=\"1\" class=\"dataframe\">\n",
       "  <thead>\n",
       "    <tr style=\"text-align: right;\">\n",
       "      <th></th>\n",
       "      <th>Outlook</th>\n",
       "      <th>Temperature &gt; 83</th>\n",
       "      <th>Humidity &gt; 65</th>\n",
       "      <th>Windy</th>\n",
       "      <th>Play</th>\n",
       "    </tr>\n",
       "  </thead>\n",
       "  <tbody>\n",
       "    <tr>\n",
       "      <th>0</th>\n",
       "      <td>sunny</td>\n",
       "      <td>True</td>\n",
       "      <td>True</td>\n",
       "      <td>False</td>\n",
       "      <td>no</td>\n",
       "    </tr>\n",
       "    <tr>\n",
       "      <th>1</th>\n",
       "      <td>sunny</td>\n",
       "      <td>False</td>\n",
       "      <td>True</td>\n",
       "      <td>True</td>\n",
       "      <td>no</td>\n",
       "    </tr>\n",
       "    <tr>\n",
       "      <th>2</th>\n",
       "      <td>overcast</td>\n",
       "      <td>False</td>\n",
       "      <td>True</td>\n",
       "      <td>False</td>\n",
       "      <td>yes</td>\n",
       "    </tr>\n",
       "    <tr>\n",
       "      <th>3</th>\n",
       "      <td>rain</td>\n",
       "      <td>False</td>\n",
       "      <td>True</td>\n",
       "      <td>False</td>\n",
       "      <td>yes</td>\n",
       "    </tr>\n",
       "    <tr>\n",
       "      <th>4</th>\n",
       "      <td>rain</td>\n",
       "      <td>False</td>\n",
       "      <td>True</td>\n",
       "      <td>False</td>\n",
       "      <td>yes</td>\n",
       "    </tr>\n",
       "    <tr>\n",
       "      <th>5</th>\n",
       "      <td>rain</td>\n",
       "      <td>False</td>\n",
       "      <td>True</td>\n",
       "      <td>True</td>\n",
       "      <td>no</td>\n",
       "    </tr>\n",
       "    <tr>\n",
       "      <th>6</th>\n",
       "      <td>overcast</td>\n",
       "      <td>False</td>\n",
       "      <td>False</td>\n",
       "      <td>True</td>\n",
       "      <td>yes</td>\n",
       "    </tr>\n",
       "    <tr>\n",
       "      <th>7</th>\n",
       "      <td>sunny</td>\n",
       "      <td>False</td>\n",
       "      <td>True</td>\n",
       "      <td>False</td>\n",
       "      <td>no</td>\n",
       "    </tr>\n",
       "    <tr>\n",
       "      <th>8</th>\n",
       "      <td>sunny</td>\n",
       "      <td>False</td>\n",
       "      <td>True</td>\n",
       "      <td>False</td>\n",
       "      <td>yes</td>\n",
       "    </tr>\n",
       "    <tr>\n",
       "      <th>9</th>\n",
       "      <td>rain</td>\n",
       "      <td>False</td>\n",
       "      <td>True</td>\n",
       "      <td>False</td>\n",
       "      <td>yes</td>\n",
       "    </tr>\n",
       "    <tr>\n",
       "      <th>10</th>\n",
       "      <td>sunny</td>\n",
       "      <td>False</td>\n",
       "      <td>True</td>\n",
       "      <td>True</td>\n",
       "      <td>yes</td>\n",
       "    </tr>\n",
       "    <tr>\n",
       "      <th>11</th>\n",
       "      <td>overcast</td>\n",
       "      <td>False</td>\n",
       "      <td>True</td>\n",
       "      <td>True</td>\n",
       "      <td>yes</td>\n",
       "    </tr>\n",
       "    <tr>\n",
       "      <th>12</th>\n",
       "      <td>overcast</td>\n",
       "      <td>False</td>\n",
       "      <td>True</td>\n",
       "      <td>False</td>\n",
       "      <td>yes</td>\n",
       "    </tr>\n",
       "    <tr>\n",
       "      <th>13</th>\n",
       "      <td>rain</td>\n",
       "      <td>False</td>\n",
       "      <td>True</td>\n",
       "      <td>True</td>\n",
       "      <td>no</td>\n",
       "    </tr>\n",
       "  </tbody>\n",
       "</table>\n",
       "</div>"
      ],
      "text/plain": [
       "     Outlook  Temperature > 83  Humidity > 65  Windy Play\n",
       "0      sunny              True           True  False   no\n",
       "1      sunny             False           True   True   no\n",
       "2   overcast             False           True  False  yes\n",
       "3       rain             False           True  False  yes\n",
       "4       rain             False           True  False  yes\n",
       "5       rain             False           True   True   no\n",
       "6   overcast             False          False   True  yes\n",
       "7      sunny             False           True  False   no\n",
       "8      sunny             False           True  False  yes\n",
       "9       rain             False           True  False  yes\n",
       "10     sunny             False           True   True  yes\n",
       "11  overcast             False           True   True  yes\n",
       "12  overcast             False           True  False  yes\n",
       "13      rain             False           True   True   no"
      ]
     },
     "execution_count": 9,
     "metadata": {},
     "output_type": "execute_result"
    }
   ],
   "source": [
    "entropy=find_entropy(df)\n",
    "\n",
    "encode_binary(df,'Humidity')\n",
    "encode_binary(df,'Temperature')"
   ]
  },
  {
   "cell_type": "code",
   "execution_count": 10,
   "id": "ef25633d",
   "metadata": {},
   "outputs": [],
   "source": [
    "def find_average_information_entropy(df,attribute):\n",
    "    Class=df.keys()[-1]\n",
    "    outcomes=df[Class].unique()\n",
    "    unique_values=df[attribute].unique()\n",
    "    average_info_entropy=0\n",
    "    for value in unique_values:\n",
    "        entropy_subsample=0\n",
    "        for value1 in outcomes:\n",
    "            num=len(df[attribute][df[attribute]==value][df[Class]==value1])\n",
    "            den=len(df[attribute][df[attribute]==value])\n",
    "            prob=num/den\n",
    "            entropy_subsample+= -(prob*np.log2(prob+1e-10))\n",
    "        weight=den/len(df)\n",
    "        average_info_entropy+= weight*entropy_subsample\n",
    "    return average_info_entropy"
   ]
  },
  {
   "cell_type": "code",
   "execution_count": 11,
   "id": "04da4742",
   "metadata": {},
   "outputs": [
    {
     "data": {
      "text/plain": [
       "0.6935361386488728"
      ]
     },
     "execution_count": 11,
     "metadata": {},
     "output_type": "execute_result"
    }
   ],
   "source": [
    "find_average_information_entropy(df,'Outlook')"
   ]
  },
  {
   "cell_type": "code",
   "execution_count": 12,
   "id": "c50618a3",
   "metadata": {},
   "outputs": [],
   "source": [
    "def calc_split_info(df,attribute):\n",
    "    den = len(df)\n",
    "    splitInfo = 0\n",
    "    unique_vals = df[attribute].unique()\n",
    "\n",
    "    for value in unique_vals:\n",
    "        num = len(df[df[attribute]==value])\n",
    "        prob = num/den\n",
    "        splitInfo -= prob*np.log2(prob + 1e-10)\n",
    "\n",
    "    return splitInfo"
   ]
  },
  {
   "cell_type": "code",
   "execution_count": 13,
   "id": "c1f073fc",
   "metadata": {},
   "outputs": [
    {
     "data": {
      "text/plain": [
       "1.577406282419537"
      ]
     },
     "execution_count": 13,
     "metadata": {},
     "output_type": "execute_result"
    }
   ],
   "source": [
    "calc_split_info(df,'Outlook')"
   ]
  },
  {
   "cell_type": "code",
   "execution_count": 14,
   "id": "b533e279",
   "metadata": {},
   "outputs": [],
   "source": [
    "def find_winner(df):\n",
    "    GR=[]\n",
    "    \n",
    "    for key in df.keys()[:-1]:\n",
    "        information_gain = find_entropy(df)-find_average_information_entropy(df,key)\n",
    "        GR.append(information_gain/calc_split_info(df,key))\n",
    "        \n",
    "    return df.keys()[:-1][np.argmax(GR)]"
   ]
  },
  {
   "cell_type": "code",
   "execution_count": 15,
   "id": "1ee93502",
   "metadata": {},
   "outputs": [
    {
     "data": {
      "text/plain": [
       "'Temperature > 83'"
      ]
     },
     "execution_count": 15,
     "metadata": {},
     "output_type": "execute_result"
    }
   ],
   "source": [
    "find_winner(df)"
   ]
  },
  {
   "cell_type": "code",
   "execution_count": 16,
   "id": "d5ef98a5",
   "metadata": {},
   "outputs": [],
   "source": [
    "def subtable(df,attribute,value):\n",
    "    return df[df[attribute]==value].reset_index(drop=True)"
   ]
  },
  {
   "cell_type": "code",
   "execution_count": 18,
   "id": "35fec987",
   "metadata": {},
   "outputs": [],
   "source": [
    "dictionary={}\n",
    "for key in df.keys()[:-1]:\n",
    "        information_gain = find_entropy(df)-find_average_information_entropy(df,key)\n",
    "        gain_ratio=information_gain/calc_split_info(df,key)\n",
    "        dictionary[key]=gain_ratio"
   ]
  },
  {
   "cell_type": "code",
   "execution_count": 19,
   "id": "548596a6",
   "metadata": {},
   "outputs": [
    {
     "data": {
      "text/plain": [
       "{'Outlook': 0.15642756262088428,\n",
       " 'Temperature > 83': 0.30547141617109297,\n",
       " 'Humidity > 65': 0.12851550988292443,\n",
       " 'Windy': 0.048848615818692244}"
      ]
     },
     "execution_count": 19,
     "metadata": {},
     "output_type": "execute_result"
    }
   ],
   "source": [
    "dictionary"
   ]
  },
  {
   "cell_type": "code",
   "execution_count": 20,
   "id": "bd9b6f17",
   "metadata": {},
   "outputs": [
    {
     "name": "stdout",
     "output_type": "stream",
     "text": [
      "Using Gain Ratio, the best two attributes that decide the Play attribute are: {'Temperature > 83': 0.30547141617109297, 'Outlook': 0.15642756262088428}\n"
     ]
    }
   ],
   "source": [
    "import operator\n",
    "from operator import itemgetter\n",
    "\n",
    "res = dict(sorted(dictionary.items(), key = itemgetter(1), reverse = True)[:2])\n",
    "  \n",
    "print(\"Using Gain Ratio, the best two attributes that decide the Play attribute are: \" + str(res))"
   ]
  },
  {
   "cell_type": "code",
   "execution_count": 21,
   "id": "b5363d8e",
   "metadata": {},
   "outputs": [],
   "source": [
    "from sklearn.feature_selection import SelectKBest\n",
    "from sklearn.feature_selection import chi2"
   ]
  },
  {
   "cell_type": "code",
   "execution_count": 22,
   "id": "56c2c9b1",
   "metadata": {},
   "outputs": [],
   "source": [
    "from sklearn.preprocessing import LabelEncoder\n",
    "label_encoder = LabelEncoder()\n",
    "df['Outlook'] = label_encoder.fit_transform(df['Outlook'])"
   ]
  },
  {
   "cell_type": "code",
   "execution_count": 23,
   "id": "dae3299e",
   "metadata": {},
   "outputs": [
    {
     "data": {
      "text/html": [
       "<div>\n",
       "<style scoped>\n",
       "    .dataframe tbody tr th:only-of-type {\n",
       "        vertical-align: middle;\n",
       "    }\n",
       "\n",
       "    .dataframe tbody tr th {\n",
       "        vertical-align: top;\n",
       "    }\n",
       "\n",
       "    .dataframe thead th {\n",
       "        text-align: right;\n",
       "    }\n",
       "</style>\n",
       "<table border=\"1\" class=\"dataframe\">\n",
       "  <thead>\n",
       "    <tr style=\"text-align: right;\">\n",
       "      <th></th>\n",
       "      <th>Outlook</th>\n",
       "      <th>Temperature &gt; 83</th>\n",
       "      <th>Humidity &gt; 65</th>\n",
       "      <th>Windy</th>\n",
       "      <th>Play</th>\n",
       "    </tr>\n",
       "  </thead>\n",
       "  <tbody>\n",
       "    <tr>\n",
       "      <th>0</th>\n",
       "      <td>2</td>\n",
       "      <td>True</td>\n",
       "      <td>True</td>\n",
       "      <td>False</td>\n",
       "      <td>no</td>\n",
       "    </tr>\n",
       "    <tr>\n",
       "      <th>1</th>\n",
       "      <td>2</td>\n",
       "      <td>False</td>\n",
       "      <td>True</td>\n",
       "      <td>True</td>\n",
       "      <td>no</td>\n",
       "    </tr>\n",
       "    <tr>\n",
       "      <th>2</th>\n",
       "      <td>0</td>\n",
       "      <td>False</td>\n",
       "      <td>True</td>\n",
       "      <td>False</td>\n",
       "      <td>yes</td>\n",
       "    </tr>\n",
       "    <tr>\n",
       "      <th>3</th>\n",
       "      <td>1</td>\n",
       "      <td>False</td>\n",
       "      <td>True</td>\n",
       "      <td>False</td>\n",
       "      <td>yes</td>\n",
       "    </tr>\n",
       "    <tr>\n",
       "      <th>4</th>\n",
       "      <td>1</td>\n",
       "      <td>False</td>\n",
       "      <td>True</td>\n",
       "      <td>False</td>\n",
       "      <td>yes</td>\n",
       "    </tr>\n",
       "    <tr>\n",
       "      <th>5</th>\n",
       "      <td>1</td>\n",
       "      <td>False</td>\n",
       "      <td>True</td>\n",
       "      <td>True</td>\n",
       "      <td>no</td>\n",
       "    </tr>\n",
       "    <tr>\n",
       "      <th>6</th>\n",
       "      <td>0</td>\n",
       "      <td>False</td>\n",
       "      <td>False</td>\n",
       "      <td>True</td>\n",
       "      <td>yes</td>\n",
       "    </tr>\n",
       "    <tr>\n",
       "      <th>7</th>\n",
       "      <td>2</td>\n",
       "      <td>False</td>\n",
       "      <td>True</td>\n",
       "      <td>False</td>\n",
       "      <td>no</td>\n",
       "    </tr>\n",
       "    <tr>\n",
       "      <th>8</th>\n",
       "      <td>2</td>\n",
       "      <td>False</td>\n",
       "      <td>True</td>\n",
       "      <td>False</td>\n",
       "      <td>yes</td>\n",
       "    </tr>\n",
       "    <tr>\n",
       "      <th>9</th>\n",
       "      <td>1</td>\n",
       "      <td>False</td>\n",
       "      <td>True</td>\n",
       "      <td>False</td>\n",
       "      <td>yes</td>\n",
       "    </tr>\n",
       "    <tr>\n",
       "      <th>10</th>\n",
       "      <td>2</td>\n",
       "      <td>False</td>\n",
       "      <td>True</td>\n",
       "      <td>True</td>\n",
       "      <td>yes</td>\n",
       "    </tr>\n",
       "    <tr>\n",
       "      <th>11</th>\n",
       "      <td>0</td>\n",
       "      <td>False</td>\n",
       "      <td>True</td>\n",
       "      <td>True</td>\n",
       "      <td>yes</td>\n",
       "    </tr>\n",
       "    <tr>\n",
       "      <th>12</th>\n",
       "      <td>0</td>\n",
       "      <td>False</td>\n",
       "      <td>True</td>\n",
       "      <td>False</td>\n",
       "      <td>yes</td>\n",
       "    </tr>\n",
       "    <tr>\n",
       "      <th>13</th>\n",
       "      <td>1</td>\n",
       "      <td>False</td>\n",
       "      <td>True</td>\n",
       "      <td>True</td>\n",
       "      <td>no</td>\n",
       "    </tr>\n",
       "  </tbody>\n",
       "</table>\n",
       "</div>"
      ],
      "text/plain": [
       "    Outlook  Temperature > 83  Humidity > 65  Windy Play\n",
       "0         2              True           True  False   no\n",
       "1         2             False           True   True   no\n",
       "2         0             False           True  False  yes\n",
       "3         1             False           True  False  yes\n",
       "4         1             False           True  False  yes\n",
       "5         1             False           True   True   no\n",
       "6         0             False          False   True  yes\n",
       "7         2             False           True  False   no\n",
       "8         2             False           True  False  yes\n",
       "9         1             False           True  False  yes\n",
       "10        2             False           True   True  yes\n",
       "11        0             False           True   True  yes\n",
       "12        0             False           True  False  yes\n",
       "13        1             False           True   True   no"
      ]
     },
     "execution_count": 23,
     "metadata": {},
     "output_type": "execute_result"
    }
   ],
   "source": [
    "df"
   ]
  },
  {
   "cell_type": "code",
   "execution_count": 24,
   "id": "e2318804",
   "metadata": {},
   "outputs": [],
   "source": [
    "X=df.drop('Play',axis=1)\n",
    "y=df['Play']"
   ]
  },
  {
   "cell_type": "code",
   "execution_count": 25,
   "id": "bbb12d2c",
   "metadata": {},
   "outputs": [],
   "source": [
    "chi_scores = chi2(X,y)"
   ]
  },
  {
   "cell_type": "code",
   "execution_count": 26,
   "id": "c9780ef6",
   "metadata": {},
   "outputs": [
    {
     "data": {
      "text/plain": [
       "(array([2.02814815, 1.8       , 0.04273504, 0.53333333]),\n",
       " array([0.15440865, 0.17971249, 0.83622498, 0.46520882]))"
      ]
     },
     "execution_count": 26,
     "metadata": {},
     "output_type": "execute_result"
    }
   ],
   "source": [
    "chi_scores"
   ]
  },
  {
   "cell_type": "code",
   "execution_count": 27,
   "id": "4f154082",
   "metadata": {},
   "outputs": [],
   "source": [
    "p_values = pd.Series(chi_scores[1],index = X.columns)\n",
    "p_values.sort_values(ascending = False , inplace = True)"
   ]
  },
  {
   "cell_type": "code",
   "execution_count": 28,
   "id": "89be29da",
   "metadata": {},
   "outputs": [
    {
     "data": {
      "text/plain": [
       "<AxesSubplot:>"
      ]
     },
     "execution_count": 28,
     "metadata": {},
     "output_type": "execute_result"
    },
    {
     "data": {
      "image/png": "[encoded data removed]",
      "text/plain": [
       "<Figure size 432x288 with 1 Axes>"
      ]
     },
     "metadata": {
      "needs_background": "light"
     },
     "output_type": "display_data"
    }
   ],
   "source": [
    "p_values.plot.bar()"
   ]
  },
  {
   "cell_type": "code",
   "execution_count": null,
   "id": "d112cd4e",
   "metadata": {},
   "outputs": [],
   "source": []
  }
 ],
 "metadata": {
  "kernelspec": {
   "display_name": "Python 3",
   "language": "python",
   "name": "python3"
  },
  "language_info": {
   "codemirror_mode": {
    "name": "ipython",
    "version": 3
   },
   "file_extension": ".py",
   "mimetype": "text/x-python",
   "name": "python",
   "nbconvert_exporter": "python",
   "pygments_lexer": "ipython3",
   "version": "3.10.0"
  }
 },
 "nbformat": 4,
 "nbformat_minor": 5
}
