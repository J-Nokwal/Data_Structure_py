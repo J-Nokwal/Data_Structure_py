{
  "cells": [
    {
      "cell_type": "markdown",
      "metadata": {
        "id": "KLMCaaduedUy"
      },
      "source": [
        "# **Q1**"
      ]
    },
    {
      "cell_type": "code",
      "execution_count": 6,
      "metadata": {
        "colab": {
          "base_uri": "https://localhost:8080/",
          "height": 424
        },
        "id": "DMr9yYJWauGW",
        "outputId": "62558374-cc60-4750-d584-a5e27b0d7c0d"
      },
      "outputs": [
        {
          "data": {
            "text/html": [
              "<div>\n",
              "<style scoped>\n",
              "    .dataframe tbody tr th:only-of-type {\n",
              "        vertical-align: middle;\n",
              "    }\n",
              "\n",
              "    .dataframe tbody tr th {\n",
              "        vertical-align: top;\n",
              "    }\n",
              "\n",
              "    .dataframe thead th {\n",
              "        text-align: right;\n",
              "    }\n",
              "</style>\n",
              "<table border=\"1\" class=\"dataframe\">\n",
              "  <thead>\n",
              "    <tr style=\"text-align: right;\">\n",
              "      <th></th>\n",
              "      <th>Comedy Movies</th>\n",
              "    </tr>\n",
              "  </thead>\n",
              "  <tbody>\n",
              "    <tr>\n",
              "      <th>0</th>\n",
              "      <td>512195,Red Notice</td>\n",
              "    </tr>\n",
              "    <tr>\n",
              "      <th>1</th>\n",
              "      <td>585245,Clifford the Big Red Dog</td>\n",
              "    </tr>\n",
              "    <tr>\n",
              "      <th>2</th>\n",
              "      <td>876716,Ciao Alberto</td>\n",
              "    </tr>\n",
              "    <tr>\n",
              "      <th>3</th>\n",
              "      <td>877183,The Simpsons in Plusaversary</td>\n",
              "    </tr>\n",
              "    <tr>\n",
              "      <th>4</th>\n",
              "      <td>550988,Free Guy</td>\n",
              "    </tr>\n",
              "    <tr>\n",
              "      <th>...</th>\n",
              "      <td>...</td>\n",
              "    </tr>\n",
              "    <tr>\n",
              "      <th>295</th>\n",
              "      <td>23023,Tooth Fairy</td>\n",
              "    </tr>\n",
              "    <tr>\n",
              "      <th>296</th>\n",
              "      <td>10527,Madagascar: Escape 2 Africa</td>\n",
              "    </tr>\n",
              "    <tr>\n",
              "      <th>297</th>\n",
              "      <td>583083,The Kissing Booth 2</td>\n",
              "    </tr>\n",
              "    <tr>\n",
              "      <th>298</th>\n",
              "      <td>508947,Turning Red</td>\n",
              "    </tr>\n",
              "    <tr>\n",
              "      <th>299</th>\n",
              "      <td>19913,(500) Days of Summer</td>\n",
              "    </tr>\n",
              "  </tbody>\n",
              "</table>\n",
              "<p>300 rows × 1 columns</p>\n",
              "</div>"
            ],
            "text/plain": [
              "                           Comedy Movies\n",
              "0                      512195,Red Notice\n",
              "1        585245,Clifford the Big Red Dog\n",
              "2                    876716,Ciao Alberto\n",
              "3    877183,The Simpsons in Plusaversary\n",
              "4                        550988,Free Guy\n",
              "..                                   ...\n",
              "295                    23023,Tooth Fairy\n",
              "296    10527,Madagascar: Escape 2 Africa\n",
              "297           583083,The Kissing Booth 2\n",
              "298                   508947,Turning Red\n",
              "299           19913,(500) Days of Summer\n",
              "\n",
              "[300 rows x 1 columns]"
            ]
          },
          "execution_count": 6,
          "metadata": {},
          "output_type": "execute_result"
        }
      ],
      "source": [
        "import requests as r\n",
        "import pandas as pd\n",
        "import time as t\n",
        "api_key=\"d6b6f511e01f1acbef2339447bdc8fb3\"\n",
        "comedy_csv = []\n",
        "cm_ids = []\n",
        "for i in range(1, 16):\n",
        "  url = 'https://api.themoviedb.org/3/discover/movie?api_key=' + api_key + '&page=' + str(i) + '&with_genres=35&primary_release_date.gte=2000&sort_by=popularity.desc'\n",
        "  req = r.get(url)\n",
        "  req.json()\n",
        "  movies = pd.DataFrame(req.json()['results'])\n",
        "\n",
        "  for j in range(len(movies)):\n",
        "    st = str(movies['id'][j]) + ',' + str(movies['title'][j])\n",
        "    comedy_csv.append([st, movies['popularity'][j], movies['id'][j]])\n",
        "\n",
        "comedy_csv = pd.DataFrame(comedy_csv, columns = ['Comedy Movies', 'Popularity', 'IDs'])\n",
        "comedy_csv = comedy_csv.sort_values(by = 'Popularity')\n",
        "comedy_csv = comedy_csv.iloc[::-1] # reverse\n",
        "cm_ids = comedy_csv['IDs']\n",
        "comedy_movies = pd.DataFrame(comedy_csv['Comedy Movies'])\n",
        "comedy_movies.to_csv('movie_ID_name.csv')\n",
        "comedy_movies\n"
      ]
    },
    {
      "cell_type": "markdown",
      "metadata": {
        "id": "dtaO7kvZeo7p"
      },
      "source": [
        "# **Q2**"
      ]
    },
    {
      "cell_type": "code",
      "execution_count": 7,
      "metadata": {
        "colab": {
          "base_uri": "https://localhost:8080/",
          "height": 424
        },
        "id": "e8y-Og5zS_g0",
        "outputId": "4005e5ed-bd96-4979-e0a3-1056b7638189"
      },
      "outputs": [
        {
          "data": {
            "text/html": [
              "<div>\n",
              "<style scoped>\n",
              "    .dataframe tbody tr th:only-of-type {\n",
              "        vertical-align: middle;\n",
              "    }\n",
              "\n",
              "    .dataframe tbody tr th {\n",
              "        vertical-align: top;\n",
              "    }\n",
              "\n",
              "    .dataframe thead th {\n",
              "        text-align: right;\n",
              "    }\n",
              "</style>\n",
              "<table border=\"1\" class=\"dataframe\">\n",
              "  <thead>\n",
              "    <tr style=\"text-align: right;\">\n",
              "      <th></th>\n",
              "      <th>Similar Movies ID</th>\n",
              "    </tr>\n",
              "  </thead>\n",
              "  <tbody>\n",
              "    <tr>\n",
              "      <th>0</th>\n",
              "      <td>512195,22804</td>\n",
              "    </tr>\n",
              "    <tr>\n",
              "      <th>1</th>\n",
              "      <td>512195,23168</td>\n",
              "    </tr>\n",
              "    <tr>\n",
              "      <th>2</th>\n",
              "      <td>512195,13027</td>\n",
              "    </tr>\n",
              "    <tr>\n",
              "      <th>3</th>\n",
              "      <td>512195,13056</td>\n",
              "    </tr>\n",
              "    <tr>\n",
              "      <th>4</th>\n",
              "      <td>512195,16617</td>\n",
              "    </tr>\n",
              "    <tr>\n",
              "      <th>...</th>\n",
              "      <td>...</td>\n",
              "    </tr>\n",
              "    <tr>\n",
              "      <th>1495</th>\n",
              "      <td>19913,17466</td>\n",
              "    </tr>\n",
              "    <tr>\n",
              "      <th>1496</th>\n",
              "      <td>19913,14883</td>\n",
              "    </tr>\n",
              "    <tr>\n",
              "      <th>1497</th>\n",
              "      <td>19913,20453</td>\n",
              "    </tr>\n",
              "    <tr>\n",
              "      <th>1498</th>\n",
              "      <td>19913,21972</td>\n",
              "    </tr>\n",
              "    <tr>\n",
              "      <th>1499</th>\n",
              "      <td>19913,28178</td>\n",
              "    </tr>\n",
              "  </tbody>\n",
              "</table>\n",
              "<p>1500 rows × 1 columns</p>\n",
              "</div>"
            ],
            "text/plain": [
              "     Similar Movies ID\n",
              "0         512195,22804\n",
              "1         512195,23168\n",
              "2         512195,13027\n",
              "3         512195,13056\n",
              "4         512195,16617\n",
              "...                ...\n",
              "1495       19913,17466\n",
              "1496       19913,14883\n",
              "1497       19913,20453\n",
              "1498       19913,21972\n",
              "1499       19913,28178\n",
              "\n",
              "[1500 rows x 1 columns]"
            ]
          },
          "execution_count": 7,
          "metadata": {},
          "output_type": "execute_result"
        }
      ],
      "source": [
        "import requests as r\n",
        "import pandas as pd\n",
        "import time as t\n",
        "\n",
        "sm_ids_csv = []\n",
        "sm_ids = []\n",
        "for i in range(len(cm_ids)):\n",
        "  url = 'https://api.themoviedb.org/3/movie/' + str(cm_ids[i]) + '/similar?api_key=' + api_key\n",
        "  req = r.get(url)\n",
        "  similar_movies = pd.DataFrame(req.json()['results'])\n",
        "  for j in range(len(similar_movies)):\n",
        "      if j < 5 and [similar_movies['id'][j], cm_ids[i]] not in sm_ids:\n",
        "\n",
        "        sm_ids_csv.append(str(cm_ids[i]) + ',' + str(similar_movies['id'][j]))\n",
        "        sm_ids.append([cm_ids[i] ,similar_movies['id'][j]])\n",
        "    \n",
        "sm_ids_csv = pd.DataFrame(sm_ids_csv, columns = ['Similar Movies ID'])\n",
        "sm_ids_csv.to_csv('movie_ID_sim_movie_ID.csv')\n",
        "sm_ids_csv"
      ]
    }
  ],
  "metadata": {
    "colab": {
      "collapsed_sections": [
        "KLMCaaduedUy",
        "dtaO7kvZeo7p"
      ],
      "name": "Data_collection_using_API.ipynb",
      "provenance": []
    },
    "kernelspec": {
      "display_name": "Python 3",
      "name": "python3"
    },
    "language_info": {
      "codemirror_mode": {
        "name": "ipython",
        "version": 3
      },
      "file_extension": ".py",
      "mimetype": "text/x-python",
      "name": "python",
      "nbconvert_exporter": "python",
      "pygments_lexer": "ipython3",
      "version": "3.10.0"
    }
  },
  "nbformat": 4,
  "nbformat_minor": 0
}
