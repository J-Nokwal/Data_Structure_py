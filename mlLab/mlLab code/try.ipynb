{
 "cells": [
  {
   "cell_type": "code",
   "execution_count": null,
   "metadata": {},
   "outputs": [],
   "source": [
    "{\n",
    "\"kError\":\"Error!\",\n",
    "\"kCancel\":\"Cancel\",\n",
    "\"kOpenSettings\":\"Open Settings\",\n",
    "\"kAlert!\":\"Alert!\",\n",
    "\"kWentWrongWhileCompletingAndcontactUs\":\"Something went wrong while completing the process. Kindly contact us for more details\",\n",
    "\"kLocationPermissionDisabledEnableScanner\":\"Location permission are disabled for GaragePro. Please enable them to connect scanner.\",\n",
    "\"kThereOccuredErrorWhileFetchingDataTryAgain\":\"There occured an error while fetching the data. Please try again.\",\n",
    "\"kPaymentPendingOnceReceiveConfirmationPlanWillBeActivated\":\"Your payment is pending and has not been completed. Once we receive the confirmation, your plan will be activated. In case of any issues, kindly contact support.\",\n",
    "\"kThereOccuredErrorWhileFetchingData\":\"There occured an error while fetching the data.\",\n",
    "\"kBluetoothPermission\":\"For continuing scanning you need to turn on phone's bluetooth. Would you like to turn on bluetooth?\",\n",
    "\"kExitScan\":\"Exit Scan\",\n",
    "\"kPermissionBluetoothLiveData\":\"For continuing Live Data scan you need to turn on phone's bluetooth. Would you like to turn on bluetooth?\",\n",
    "\"ErrorOcurredWhileFetchingData\":\"There occured an error while fetching the data.\",\n",
    "\"kPhonesLocationServiceDiasabled\":\"Phone's location services are disabled. Please enable location services for GaragePro.\",\n",
    "\"kSelectMaximum10Parameters\":\"You can select a maximum of 10 parameters.\",\n",
    "\"kSpecialFunctionsAvailableonlyInAdvancedPlans\":\"Special Functions are available only in Advanced plans.\",\n",
    "\"kScanningUnlimitedNumberOfCars\":\"Scanning unlimited number of cars is available in Advanced plan.\",\n",
    "\"kLastConnectedDeviceNotFound\":\"Last connected device is not found. please try again.\",\n",
    "\"kerrorlogginIn\":\"There was an error loggin in. Please try again.\",\n",
    "\"kErrorsigningViaGoogle\":\"There occurred an error while signing you in via Google. Please try again later.\",\n",
    "\"kRequestForScanCanNotProcessed\":\"Your request for Scan again can not be processed at the moment. Please try again later.\",\n",
    "\"kRequestForClearCodesNotBeProcessedRightNow\":\"Your request for Clear Codes can not be processed right now. Please try again later from Home page.\",\n",
    "\"kReportIsntAvailableatMoment\":\"Your report isn't available at the moment. Please try again later\",\n",
    "\"kServiceResetNotAvailableInLitePlan\":\"Service Reset is not available in Lite plan\",\n",
    "\"kNumberOfKmInRange\":\"Please enter Number of KMs in the range 1-99999\",\n",
    "\"krequestForChangingUnitTypeError\":\"Your request for changing unit type could not be processed. Please try again.\",\n",
    "\"krequestForChangingReportLanguageError\":\"Your request for changing report language could not be processed. Please try again.\",\n",
    "\"kerrorWhileSedingSomeData\":\"There occured some error while sending the data. Please try again.\",\n",
    "\"kPLeaseEnterAValidCode\":\"Please enter a valid key code.\",\n",
    "\"kInjectorCodeIsInvalid\":\"Your injector code is invalid. Please enter a valid injector code.\",\n",
    "}"
   ]
  },
  {
   "cell_type": "code",
   "execution_count": null,
   "metadata": {},
   "outputs": [],
   "source": []
  }
 ],
 "metadata": {
  "interpreter": {
   "hash": "e7370f93d1d0cde622a1f8e1c04877d8463912d04d973331ad4851f04de6915a"
  },
  "kernelspec": {
   "display_name": "Python 3.9.7 64-bit",
   "name": "python3"
  },
  "language_info": {
   "codemirror_mode": {
    "name": "ipython",
    "version": 3
   },
   "file_extension": ".py",
   "mimetype": "text/x-python",
   "name": "python",
   "nbconvert_exporter": "python",
   "pygments_lexer": "ipython3",
   "version": "3.10.0"
  },
  "orig_nbformat": 4
 },
 "nbformat": 4,
 "nbformat_minor": 2
}
