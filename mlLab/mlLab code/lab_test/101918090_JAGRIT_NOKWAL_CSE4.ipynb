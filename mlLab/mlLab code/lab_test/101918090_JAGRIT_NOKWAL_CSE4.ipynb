{
 "cells": [
  {
   "cell_type": "code",
   "execution_count": 177,
   "metadata": {},
   "outputs": [],
   "source": [
    "import pandas as pd\n",
    "import numpy as np\n",
    "from sklearn.decomposition import PCA\n",
    "from sklearn.preprocessing import StandardScaler\n",
    "from sklearn.naive_bayes import GaussianNB\n",
    "from sklearn.model_selection import train_test_split\n",
    "from sklearn.metrics import confusion_matrix\n",
    "import seaborn as sns"
   ]
  },
  {
   "cell_type": "code",
   "execution_count": 178,
   "metadata": {},
   "outputs": [
    {
     "data": {
      "text/plain": [
       "False"
      ]
     },
     "execution_count": 178,
     "metadata": {},
     "output_type": "execute_result"
    }
   ],
   "source": [
    "df=pd.read_csv(\"/home/rockbot/Documents/Data_Structure_py/mlLab/lab_test/cancer data - data.csv\")\n",
    "df.isnull().any().any()\n"
   ]
  },
  {
   "cell_type": "code",
   "execution_count": 179,
   "metadata": {},
   "outputs": [],
   "source": [
    "x_train, x_test, y_train, y_test=train_test_split(df.drop(columns=[\"id\",\"diagnosis\"]),df[\"diagnosis\"], random_state=44)\n"
   ]
  },
  {
   "cell_type": "code",
   "execution_count": 180,
   "metadata": {},
   "outputs": [
    {
     "data": {
      "text/html": [
       "<div>\n",
       "<style scoped>\n",
       "    .dataframe tbody tr th:only-of-type {\n",
       "        vertical-align: middle;\n",
       "    }\n",
       "\n",
       "    .dataframe tbody tr th {\n",
       "        vertical-align: top;\n",
       "    }\n",
       "\n",
       "    .dataframe thead th {\n",
       "        text-align: right;\n",
       "    }\n",
       "</style>\n",
       "<table border=\"1\" class=\"dataframe\">\n",
       "  <thead>\n",
       "    <tr style=\"text-align: right;\">\n",
       "      <th></th>\n",
       "      <th>pca1</th>\n",
       "      <th>pca2</th>\n",
       "      <th>pca3</th>\n",
       "    </tr>\n",
       "  </thead>\n",
       "  <tbody>\n",
       "    <tr>\n",
       "      <th>0</th>\n",
       "      <td>547.389156</td>\n",
       "      <td>-84.869109</td>\n",
       "      <td>-22.367376</td>\n",
       "    </tr>\n",
       "    <tr>\n",
       "      <th>1</th>\n",
       "      <td>-172.977697</td>\n",
       "      <td>-85.079670</td>\n",
       "      <td>-10.731619</td>\n",
       "    </tr>\n",
       "    <tr>\n",
       "      <th>2</th>\n",
       "      <td>-258.056652</td>\n",
       "      <td>-42.807444</td>\n",
       "      <td>-6.399682</td>\n",
       "    </tr>\n",
       "    <tr>\n",
       "      <th>3</th>\n",
       "      <td>533.678375</td>\n",
       "      <td>-87.464770</td>\n",
       "      <td>-25.065888</td>\n",
       "    </tr>\n",
       "    <tr>\n",
       "      <th>4</th>\n",
       "      <td>866.156815</td>\n",
       "      <td>-28.800625</td>\n",
       "      <td>19.303146</td>\n",
       "    </tr>\n",
       "    <tr>\n",
       "      <th>...</th>\n",
       "      <td>...</td>\n",
       "      <td>...</td>\n",
       "      <td>...</td>\n",
       "    </tr>\n",
       "    <tr>\n",
       "      <th>421</th>\n",
       "      <td>-439.462118</td>\n",
       "      <td>25.636435</td>\n",
       "      <td>-6.499547</td>\n",
       "    </tr>\n",
       "    <tr>\n",
       "      <th>422</th>\n",
       "      <td>-369.269264</td>\n",
       "      <td>20.424815</td>\n",
       "      <td>-4.771112</td>\n",
       "    </tr>\n",
       "    <tr>\n",
       "      <th>423</th>\n",
       "      <td>-427.625238</td>\n",
       "      <td>-21.953555</td>\n",
       "      <td>11.109851</td>\n",
       "    </tr>\n",
       "    <tr>\n",
       "      <th>424</th>\n",
       "      <td>-553.096943</td>\n",
       "      <td>-4.060179</td>\n",
       "      <td>11.672185</td>\n",
       "    </tr>\n",
       "    <tr>\n",
       "      <th>425</th>\n",
       "      <td>-495.969765</td>\n",
       "      <td>20.267146</td>\n",
       "      <td>5.166125</td>\n",
       "    </tr>\n",
       "  </tbody>\n",
       "</table>\n",
       "<p>426 rows × 3 columns</p>\n",
       "</div>"
      ],
      "text/plain": [
       "           pca1       pca2       pca3\n",
       "0    547.389156 -84.869109 -22.367376\n",
       "1   -172.977697 -85.079670 -10.731619\n",
       "2   -258.056652 -42.807444  -6.399682\n",
       "3    533.678375 -87.464770 -25.065888\n",
       "4    866.156815 -28.800625  19.303146\n",
       "..          ...        ...        ...\n",
       "421 -439.462118  25.636435  -6.499547\n",
       "422 -369.269264  20.424815  -4.771112\n",
       "423 -427.625238 -21.953555  11.109851\n",
       "424 -553.096943  -4.060179  11.672185\n",
       "425 -495.969765  20.267146   5.166125\n",
       "\n",
       "[426 rows x 3 columns]"
      ]
     },
     "execution_count": 180,
     "metadata": {},
     "output_type": "execute_result"
    }
   ],
   "source": [
    "# pca=PCA(n_components=3,)\n",
    "pca=PCA(n_components=3)\n",
    "\n",
    "pca.fit(x_train)\n",
    "x_train=pd.DataFrame(pca.fit_transform(x_train))\n",
    "x_train.columns=columns=[\"pca1\",\"pca2\",\"pca3\"]\n",
    "x_test=pca.fit_transform(x_test)\n",
    "x_train"
   ]
  },
  {
   "cell_type": "code",
   "execution_count": 181,
   "metadata": {},
   "outputs": [],
   "source": [
    "ss=StandardScaler()\n",
    "ss.fit(x_train)\n",
    "x_train=ss.fit_transform(x_train)\n",
    "x_test= ss.fit_transform(x_test)"
   ]
  },
  {
   "cell_type": "code",
   "execution_count": 182,
   "metadata": {},
   "outputs": [],
   "source": [
    "gnb = GaussianNB()\n",
    "gnb.fit(x_train, np.ravel(y_train))\n",
    "y_pred=gnb.predict(x_test)\n",
    "\n"
   ]
  },
  {
   "cell_type": "code",
   "execution_count": 183,
   "metadata": {},
   "outputs": [
    {
     "data": {
      "text/plain": [
       "<AxesSubplot:>"
      ]
     },
     "execution_count": 183,
     "metadata": {},
     "output_type": "execute_result"
    },
    {
     "data": {
      "image/png": "[encoded data removed]",
      "text/plain": [
       "<Figure size 432x288 with 1 Axes>"
      ]
     },
     "metadata": {
      "needs_background": "light"
     },
     "output_type": "display_data"
    }
   ],
   "source": [
    "con_matx=confusion_matrix(y_test, y_pred)\n",
    "sns.heatmap(con_matx/np.sum(con_matx), annot=True,fmt='.2%',xticklabels=[\"Actual true \",\"Actual fasle\"],yticklabels=[\"Prediced true\",\"predicted false\"],cbar=False)"
   ]
  },
  {
   "cell_type": "code",
   "execution_count": 184,
   "metadata": {},
   "outputs": [
    {
     "data": {
      "text/plain": [
       "0.9578947368421052"
      ]
     },
     "execution_count": 184,
     "metadata": {},
     "output_type": "execute_result"
    }
   ],
   "source": [
    "prec_matx=con_matx[0,0]/sum(con_matx[0,:])\n",
    "prec_matx"
   ]
  },
  {
   "cell_type": "code",
   "execution_count": 185,
   "metadata": {},
   "outputs": [
    {
     "data": {
      "text/plain": [
       "0.9578947368421052"
      ]
     },
     "execution_count": 185,
     "metadata": {},
     "output_type": "execute_result"
    }
   ],
   "source": [
    "recall_matx=con_matx[0,0]/sum(con_matx[:,0])\n",
    "recall_matx"
   ]
  }
 ],
 "metadata": {
  "interpreter": {
   "hash": "a225c4a8b98be202feb166baa2430a60156494bd48d337c3d8b20b26045d9d8b"
  },
  "kernelspec": {
   "display_name": "Python 3.9.7 64-bit ('ml_lab_env': venv)",
   "name": "python3"
  },
  "language_info": {
   "codemirror_mode": {
    "name": "ipython",
    "version": 3
   },
   "file_extension": ".py",
   "mimetype": "text/x-python",
   "name": "python",
   "nbconvert_exporter": "python",
   "pygments_lexer": "ipython3",
   "version": "3.9.7"
  },
  "orig_nbformat": 4
 },
 "nbformat": 4,
 "nbformat_minor": 2
}
