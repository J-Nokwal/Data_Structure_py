{
 "cells": [
  {
   "cell_type": "code",
   "execution_count": 1,
   "source": [
    "import numpy as np\n",
    "import pandas as pd\n",
    "import missingno as msn\n",
    "import seaborn as sns\n",
    "from sklearn.preprocessing import StandardScaler\n",
    "from sklearn.model_selection import train_test_split"
   ],
   "outputs": [],
   "metadata": {}
  },
  {
   "cell_type": "code",
   "execution_count": 2,
   "source": [
    "df = pd.read_csv(\"/home/rockbot/Documents/Data_Structure_py/conAI/USA_Housing.csv\")\n",
    "df.info()"
   ],
   "outputs": [
    {
     "output_type": "stream",
     "name": "stdout",
     "text": [
      "<class 'pandas.core.frame.DataFrame'>\n",
      "RangeIndex: 5000 entries, 0 to 4999\n",
      "Data columns (total 6 columns):\n",
      " #   Column                        Non-Null Count  Dtype  \n",
      "---  ------                        --------------  -----  \n",
      " 0   Avg. Area Income              5000 non-null   float64\n",
      " 1   Avg. Area House Age           5000 non-null   float64\n",
      " 2   Avg. Area Number of Rooms     5000 non-null   float64\n",
      " 3   Avg. Area Number of Bedrooms  5000 non-null   float64\n",
      " 4   Area Population               5000 non-null   float64\n",
      " 5   Price                         5000 non-null   float64\n",
      "dtypes: float64(6)\n",
      "memory usage: 234.5 KB\n"
     ]
    }
   ],
   "metadata": {}
  },
  {
   "cell_type": "code",
   "execution_count": 3,
   "source": [
    "df.head(10)"
   ],
   "outputs": [
    {
     "output_type": "execute_result",
     "data": {
      "text/html": [
       "<div>\n",
       "<style scoped>\n",
       "    .dataframe tbody tr th:only-of-type {\n",
       "        vertical-align: middle;\n",
       "    }\n",
       "\n",
       "    .dataframe tbody tr th {\n",
       "        vertical-align: top;\n",
       "    }\n",
       "\n",
       "    .dataframe thead th {\n",
       "        text-align: right;\n",
       "    }\n",
       "</style>\n",
       "<table border=\"1\" class=\"dataframe\">\n",
       "  <thead>\n",
       "    <tr style=\"text-align: right;\">\n",
       "      <th></th>\n",
       "      <th>Avg. Area Income</th>\n",
       "      <th>Avg. Area House Age</th>\n",
       "      <th>Avg. Area Number of Rooms</th>\n",
       "      <th>Avg. Area Number of Bedrooms</th>\n",
       "      <th>Area Population</th>\n",
       "      <th>Price</th>\n",
       "    </tr>\n",
       "  </thead>\n",
       "  <tbody>\n",
       "    <tr>\n",
       "      <th>0</th>\n",
       "      <td>79545.45857</td>\n",
       "      <td>5.682861</td>\n",
       "      <td>7.009188</td>\n",
       "      <td>4.09</td>\n",
       "      <td>23086.80050</td>\n",
       "      <td>1.059034e+06</td>\n",
       "    </tr>\n",
       "    <tr>\n",
       "      <th>1</th>\n",
       "      <td>79248.64245</td>\n",
       "      <td>6.002900</td>\n",
       "      <td>6.730821</td>\n",
       "      <td>3.09</td>\n",
       "      <td>40173.07217</td>\n",
       "      <td>1.505891e+06</td>\n",
       "    </tr>\n",
       "    <tr>\n",
       "      <th>2</th>\n",
       "      <td>61287.06718</td>\n",
       "      <td>5.865890</td>\n",
       "      <td>8.512727</td>\n",
       "      <td>5.13</td>\n",
       "      <td>36882.15940</td>\n",
       "      <td>1.058988e+06</td>\n",
       "    </tr>\n",
       "    <tr>\n",
       "      <th>3</th>\n",
       "      <td>63345.24005</td>\n",
       "      <td>7.188236</td>\n",
       "      <td>5.586729</td>\n",
       "      <td>3.26</td>\n",
       "      <td>34310.24283</td>\n",
       "      <td>1.260617e+06</td>\n",
       "    </tr>\n",
       "    <tr>\n",
       "      <th>4</th>\n",
       "      <td>59982.19723</td>\n",
       "      <td>5.040555</td>\n",
       "      <td>7.839388</td>\n",
       "      <td>4.23</td>\n",
       "      <td>26354.10947</td>\n",
       "      <td>6.309435e+05</td>\n",
       "    </tr>\n",
       "    <tr>\n",
       "      <th>5</th>\n",
       "      <td>80175.75416</td>\n",
       "      <td>4.988408</td>\n",
       "      <td>6.104512</td>\n",
       "      <td>4.04</td>\n",
       "      <td>26748.42842</td>\n",
       "      <td>1.068138e+06</td>\n",
       "    </tr>\n",
       "    <tr>\n",
       "      <th>6</th>\n",
       "      <td>64698.46343</td>\n",
       "      <td>6.025336</td>\n",
       "      <td>8.147760</td>\n",
       "      <td>3.41</td>\n",
       "      <td>60828.24909</td>\n",
       "      <td>1.502056e+06</td>\n",
       "    </tr>\n",
       "    <tr>\n",
       "      <th>7</th>\n",
       "      <td>78394.33928</td>\n",
       "      <td>6.989780</td>\n",
       "      <td>6.620478</td>\n",
       "      <td>2.42</td>\n",
       "      <td>36516.35897</td>\n",
       "      <td>1.573937e+06</td>\n",
       "    </tr>\n",
       "    <tr>\n",
       "      <th>8</th>\n",
       "      <td>59927.66081</td>\n",
       "      <td>5.362126</td>\n",
       "      <td>6.393121</td>\n",
       "      <td>2.30</td>\n",
       "      <td>29387.39600</td>\n",
       "      <td>7.988695e+05</td>\n",
       "    </tr>\n",
       "    <tr>\n",
       "      <th>9</th>\n",
       "      <td>81885.92718</td>\n",
       "      <td>4.423672</td>\n",
       "      <td>8.167688</td>\n",
       "      <td>6.10</td>\n",
       "      <td>40149.96575</td>\n",
       "      <td>1.545155e+06</td>\n",
       "    </tr>\n",
       "  </tbody>\n",
       "</table>\n",
       "</div>"
      ],
      "text/plain": [
       "   Avg. Area Income  Avg. Area House Age  Avg. Area Number of Rooms  \\\n",
       "0       79545.45857             5.682861                   7.009188   \n",
       "1       79248.64245             6.002900                   6.730821   \n",
       "2       61287.06718             5.865890                   8.512727   \n",
       "3       63345.24005             7.188236                   5.586729   \n",
       "4       59982.19723             5.040555                   7.839388   \n",
       "5       80175.75416             4.988408                   6.104512   \n",
       "6       64698.46343             6.025336                   8.147760   \n",
       "7       78394.33928             6.989780                   6.620478   \n",
       "8       59927.66081             5.362126                   6.393121   \n",
       "9       81885.92718             4.423672                   8.167688   \n",
       "\n",
       "   Avg. Area Number of Bedrooms  Area Population         Price  \n",
       "0                          4.09      23086.80050  1.059034e+06  \n",
       "1                          3.09      40173.07217  1.505891e+06  \n",
       "2                          5.13      36882.15940  1.058988e+06  \n",
       "3                          3.26      34310.24283  1.260617e+06  \n",
       "4                          4.23      26354.10947  6.309435e+05  \n",
       "5                          4.04      26748.42842  1.068138e+06  \n",
       "6                          3.41      60828.24909  1.502056e+06  \n",
       "7                          2.42      36516.35897  1.573937e+06  \n",
       "8                          2.30      29387.39600  7.988695e+05  \n",
       "9                          6.10      40149.96575  1.545155e+06  "
      ]
     },
     "metadata": {},
     "execution_count": 3
    }
   ],
   "metadata": {}
  },
  {
   "cell_type": "code",
   "execution_count": 4,
   "source": [
    "X = df.iloc[:,:5]\n",
    "Y = df.iloc[:,5]"
   ],
   "outputs": [],
   "metadata": {}
  },
  {
   "cell_type": "code",
   "execution_count": 5,
   "source": [
    "StdSc = StandardScaler()\n",
    "X_scaled = StdSc.fit_transform(X)\n",
    "print(X_scaled)"
   ],
   "outputs": [
    {
     "output_type": "stream",
     "name": "stdout",
     "text": [
      "[[ 1.02865969 -0.29692705  0.02127433  0.08806222 -1.31759867]\n",
      " [ 1.00080775  0.02590164 -0.25550611 -0.72230146  0.40399945]\n",
      " [-0.68462915 -0.11230283  1.5162435   0.93084045  0.07240989]\n",
      " ...\n",
      " [-0.48723454  1.28447022 -2.17026949 -1.50025059 -0.29193658]\n",
      " [-0.05459152 -0.44669439  0.14154061  1.18205319  0.65111608]\n",
      " [-0.28831272  0.01521477 -0.19434166  0.07185495  1.04162464]]\n"
     ]
    }
   ],
   "metadata": {}
  },
  {
   "cell_type": "code",
   "execution_count": 6,
   "source": [
    "X_new = np.insert(X_scaled, 0, 1, axis=1)\n",
    "print(X_new)"
   ],
   "outputs": [
    {
     "output_type": "stream",
     "name": "stdout",
     "text": [
      "[[ 1.          1.02865969 -0.29692705  0.02127433  0.08806222 -1.31759867]\n",
      " [ 1.          1.00080775  0.02590164 -0.25550611 -0.72230146  0.40399945]\n",
      " [ 1.         -0.68462915 -0.11230283  1.5162435   0.93084045  0.07240989]\n",
      " ...\n",
      " [ 1.         -0.48723454  1.28447022 -2.17026949 -1.50025059 -0.29193658]\n",
      " [ 1.         -0.05459152 -0.44669439  0.14154061  1.18205319  0.65111608]\n",
      " [ 1.         -0.28831272  0.01521477 -0.19434166  0.07185495  1.04162464]]\n"
     ]
    }
   ],
   "metadata": {}
  },
  {
   "cell_type": "code",
   "execution_count": 7,
   "source": [
    "size = len(df.index)\n",
    "fold_count = 5\n",
    "chunk_size = size//5\n",
    "fold_lst = []\n",
    "total_chunk = list(df.index)\n",
    "for x in range(fold_count):\n",
    "    test_lst = np.arange(x*chunk_size,(x+1)*chunk_size)\n",
    "    train_lst = np.arange(0,x*chunk_size)\n",
    "    train_lst = np.concatenate((train_lst, np.arange((x+1)*chunk_size, size)))\n",
    "    fold_lst.append((test_lst,train_lst))\n",
    "len(fold_lst)"
   ],
   "outputs": [
    {
     "output_type": "execute_result",
     "data": {
      "text/plain": [
       "5"
      ]
     },
     "metadata": {},
     "execution_count": 7
    }
   ],
   "metadata": {}
  },
  {
   "cell_type": "code",
   "execution_count": 8,
   "source": [
    "def solveBeta(X, Y):\n",
    "    A = X.T.dot(X)\n",
    "    B = np.linalg.inv(A)\n",
    "    C = B.dot(X.T)\n",
    "    beta = C.dot(Y)\n",
    "    return beta"
   ],
   "outputs": [],
   "metadata": {}
  },
  {
   "cell_type": "code",
   "execution_count": 9,
   "source": [
    "def r2_error(Y_predict, Y_test):\n",
    "    err = Y_predict-Y_test\n",
    "    sse = np.sum(err**2)\n",
    "    Y_mean = np.mean(Y_test)\n",
    "    tot_var = np.sum((Y_test-Y_mean)**2)\n",
    "    r2e = 1-sse/tot_var\n",
    "    return r2e"
   ],
   "outputs": [],
   "metadata": {}
  },
  {
   "cell_type": "code",
   "execution_count": 10,
   "source": [
    "def predict(X, beta):\n",
    "    Y_predict = X.dot(beta)\n",
    "    return Y_predict"
   ],
   "outputs": [],
   "metadata": {}
  },
  {
   "cell_type": "code",
   "execution_count": 11,
   "source": [
    "score_lst = []\n",
    "beta_lst = []\n",
    "for test_idx, train_idx in fold_lst:\n",
    "    X_train,X_test,Y_train,Y_test = X_new[train_idx],X_new[test_idx],Y[train_idx],Y[test_idx]\n",
    "    beta = solveBeta(X_train,Y_train)\n",
    "    beta_lst.append(beta)\n",
    "    Y_predict = predict(X_test, beta)\n",
    "    R2err = r2_error(Y_predict, Y_test)\n",
    "    score_lst.append(R2err)\n",
    "print(score_lst)"
   ],
   "outputs": [
    {
     "output_type": "stream",
     "name": "stdout",
     "text": [
      "[0.9175899480765107, 0.920301549640113, 0.9152429915320014, 0.9208503836977656, 0.9138111758717495]\n"
     ]
    }
   ],
   "metadata": {}
  },
  {
   "cell_type": "code",
   "execution_count": 12,
   "source": [
    "max_score = max(score_lst)\n",
    "max_idx = score_lst.index(max_score)\n",
    "best_beta = beta_lst[max_idx]\n",
    "print(best_beta)"
   ],
   "outputs": [
    {
     "output_type": "stream",
     "name": "stdout",
     "text": [
      "[1.23144707e+06 2.29921558e+05 1.64523054e+05 1.19737507e+05\n",
      " 1.12425659e+03 1.51317802e+05]\n"
     ]
    }
   ],
   "metadata": {}
  },
  {
   "cell_type": "code",
   "execution_count": 13,
   "source": [
    "X_train,X_test,Y_train,Y_test = train_test_split(X_new,Y,test_size=0.3,random_state = 41)\n",
    "Y_predict = predict(X_test, best_beta)\n",
    "R2err = r2_error(Y_predict, Y_test)\n",
    "print(R2err)"
   ],
   "outputs": [
    {
     "output_type": "stream",
     "name": "stdout",
     "text": [
      "0.9194842237268729\n"
     ]
    }
   ],
   "metadata": {}
  }
 ],
 "metadata": {
  "kernelspec": {
   "name": "python3",
   "display_name": "Python 3.9.7 64-bit ('ml_lab_env': venv)"
  },
  "language_info": {
   "codemirror_mode": {
    "name": "ipython",
    "version": 3
   },
   "file_extension": ".py",
   "mimetype": "text/x-python",
   "name": "python",
   "nbconvert_exporter": "python",
   "pygments_lexer": "ipython3",
   "version": "3.9.7"
  },
  "interpreter": {
   "hash": "7a02a79899adb5d5f5ab3e68ab3cecbce5f0e90fda0964d051a4a0da273b8fcf"
  }
 },
 "nbformat": 4,
 "nbformat_minor": 5
}