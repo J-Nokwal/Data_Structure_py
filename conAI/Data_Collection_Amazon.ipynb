{
 "cells": [
  {
   "cell_type": "code",
   "execution_count": null,
   "metadata": {},
   "outputs": [],
   "source": []
  },
  {
   "cell_type": "code",
   "execution_count": null,
   "metadata": {},
   "outputs": [],
   "source": [
    "import requests\n",
    "from bs4 import BeautifulSoup"
   ]
  },
  {
   "cell_type": "code",
   "execution_count": null,
   "metadata": {},
   "outputs": [],
   "source": [
    "def get_data(pageno):\n",
    "    url=('https://www.amazon.in/gp/bestsellers/books/ref=zg_bs_pg_'+str(pageno)+'?ie=UTF8&pg='+str(pageno))\n",
    "    r=requests.get(url)\n",
    "    html_content=r.content\n",
    "    soup=BeautifulSoup(html_content)\n",
    "    all=[]\n",
    "    for d in soup.find_all('div',attrs={'class':'a-section a-spacing-none aok-relative'}):\n",
    "        name=d.find('span', attrs={'class':'zg-text-center-align'})\n",
    "        book_name=name.find('img',alt=True)\n",
    "        author_name=d.find('a',attrs={'class':'a-size-small a-link-child'})\n",
    "        ratings=d.find('span',attrs={'class':'a-icon-alt'})\n",
    "        rating_score=d.find('a',attrs={'class':'a-size-small a-link-normal'})\n",
    "        book_type=d.find('span',attrs={'class':'a-size-small a-color-secondary'})\n",
    "        price=d.find('span',attrs={'class':'p13n-sc-price'})\n",
    "        book_link=d.find('a',attrs={'class':'a-link-normal'})\n",
    "        all1=[]\n",
    "        if book_name is not None:\n",
    "            all1.append(book_name.get('alt'))\n",
    "        else:\n",
    "            all1.append('unknown')\n",
    "        if author_name is not None:\n",
    "            all1.append(author_name.text)\n",
    "        else:\n",
    "            all1.append('unknown')\n",
    "        if ratings is not None:\n",
    "            all1.append(ratings.text)\n",
    "        else:\n",
    "            all1.append('unknown')\n",
    "        if rating_score is not None:\n",
    "            all1.append(rating_score.text)\n",
    "        else:\n",
    "            all1.append('unknown')\n",
    "        if book_type is not None:\n",
    "            all1.append(book_type.text)\n",
    "        else:\n",
    "            all1.append('unknown')\n",
    "        if price is not None:\n",
    "            all1.append(price.text)\n",
    "        else:\n",
    "            all1.append('unknown')\n",
    "        if book_link is not None:\n",
    "            all1.append('https://www.amazon.in/'+book_link.get('href'))\n",
    "        else:\n",
    "            all1.append('unknown')\n",
    "        all.append(all1)\n",
    "        \n",
    "    return all"
   ]
  },
  {
   "cell_type": "code",
   "execution_count": null,
   "metadata": {},
   "outputs": [],
   "source": [
    "import pandas as pd\n",
    "results = []\n",
    "no_pages=5\n",
    "for i in range(1, no_pages+1):\n",
    "    results.append(get_data(i))\n",
    "flatten = lambda l: [item for sublist in l for item in sublist]\n",
    "df = pd.DataFrame(flatten(results),columns=['Book Name','Author','Rating','Customers_Rated', 'Book_type','Price','link'])"
   ]
  },
  {
   "cell_type": "code",
   "execution_count": null,
   "metadata": {},
   "outputs": [
    {
     "data": {
      "text/plain": [
       "(50, 7)"
      ]
     },
     "execution_count": 6,
     "metadata": {},
     "output_type": "execute_result"
    }
   ],
   "source": [
    "df.shape"
   ]
  },
  {
   "cell_type": "code",
   "execution_count": null,
   "metadata": {},
   "outputs": [
    {
     "data": {
      "text/plain": [
       "'https://www.amazon.in//400-Days-Chetan-Bhagat/dp/1542094089?_encoding=UTF8&psc=1'"
      ]
     },
     "execution_count": 68,
     "metadata": {},
     "output_type": "execute_result"
    }
   ],
   "source": [
    "df.loc[0,'link']"
   ]
  },
  {
   "cell_type": "code",
   "execution_count": null,
   "metadata": {},
   "outputs": [
    {
     "data": {
      "text/plain": [
       "'https://www.amazon.in//101-Panchatantra-Stories-Children-Illustrated/dp/935376517X?_encoding=UTF8&psc=1'"
      ]
     },
     "execution_count": 58,
     "metadata": {},
     "output_type": "execute_result"
    }
   ],
   "source": [
    "df.loc[0,'link']"
   ]
  },
  {
   "cell_type": "code",
   "execution_count": null,
   "metadata": {},
   "outputs": [
    {
     "data": {
      "text/html": [
       "<div>\n",
       "<style scoped>\n",
       "    .dataframe tbody tr th:only-of-type {\n",
       "        vertical-align: middle;\n",
       "    }\n",
       "\n",
       "    .dataframe tbody tr th {\n",
       "        vertical-align: top;\n",
       "    }\n",
       "\n",
       "    .dataframe thead th {\n",
       "        text-align: right;\n",
       "    }\n",
       "</style>\n",
       "<table border=\"1\" class=\"dataframe\">\n",
       "  <thead>\n",
       "    <tr style=\"text-align: right;\">\n",
       "      <th></th>\n",
       "      <th>Book Name</th>\n",
       "      <th>Author</th>\n",
       "      <th>Rating</th>\n",
       "      <th>Customers_Rated</th>\n",
       "      <th>Book_type</th>\n",
       "      <th>Price</th>\n",
       "      <th>link</th>\n",
       "    </tr>\n",
       "  </thead>\n",
       "  <tbody>\n",
       "    <tr>\n",
       "      <th>0</th>\n",
       "      <td>The Psychology of Money</td>\n",
       "      <td>Morgan Housel</td>\n",
       "      <td>4.6 out of 5 stars</td>\n",
       "      <td>17,905</td>\n",
       "      <td>Paperback</td>\n",
       "      <td>₹277.00</td>\n",
       "      <td>https://www.amazon.in//Psychology-Money-Morgan...</td>\n",
       "    </tr>\n",
       "    <tr>\n",
       "      <th>1</th>\n",
       "      <td>My Life in Full: Work, Family, and Our Future ...</td>\n",
       "      <td>unknown</td>\n",
       "      <td>unknown</td>\n",
       "      <td>unknown</td>\n",
       "      <td>Hardcover</td>\n",
       "      <td>₹524.00</td>\n",
       "      <td>https://www.amazon.in//My-Life-Full-special-Ep...</td>\n",
       "    </tr>\n",
       "    <tr>\n",
       "      <th>2</th>\n",
       "      <td>My First Library: Boxset of 10 Board Books for...</td>\n",
       "      <td>Wonder House Books</td>\n",
       "      <td>4.5 out of 5 stars</td>\n",
       "      <td>37,353</td>\n",
       "      <td>Board book</td>\n",
       "      <td>₹389.00</td>\n",
       "      <td>https://www.amazon.in//My-First-Library-Boxset...</td>\n",
       "    </tr>\n",
       "    <tr>\n",
       "      <th>3</th>\n",
       "      <td>Ikigai: The Japanese secret to a long and happ...</td>\n",
       "      <td>Héctor García</td>\n",
       "      <td>4.6 out of 5 stars</td>\n",
       "      <td>23,685</td>\n",
       "      <td>Hardcover</td>\n",
       "      <td>₹318.00</td>\n",
       "      <td>https://www.amazon.in//Ikigai-H%C3%A9ctor-Garc...</td>\n",
       "    </tr>\n",
       "    <tr>\n",
       "      <th>4</th>\n",
       "      <td>400 Days</td>\n",
       "      <td>Chetan Bhagat</td>\n",
       "      <td>unknown</td>\n",
       "      <td>unknown</td>\n",
       "      <td>Paperback</td>\n",
       "      <td>₹199.00</td>\n",
       "      <td>https://www.amazon.in//400-Days-Chetan-Bhagat/...</td>\n",
       "    </tr>\n",
       "    <tr>\n",
       "      <th>...</th>\n",
       "      <td>...</td>\n",
       "      <td>...</td>\n",
       "      <td>...</td>\n",
       "      <td>...</td>\n",
       "      <td>...</td>\n",
       "      <td>...</td>\n",
       "      <td>...</td>\n",
       "    </tr>\n",
       "    <tr>\n",
       "      <th>95</th>\n",
       "      <td>Certificate Physical And Human Geography; Indi...</td>\n",
       "      <td>unknown</td>\n",
       "      <td>4.5 out of 5 stars</td>\n",
       "      <td>9,004</td>\n",
       "      <td>Paperback</td>\n",
       "      <td>₹325.00</td>\n",
       "      <td>https://www.amazon.in//Certificate-Physics-Hum...</td>\n",
       "    </tr>\n",
       "    <tr>\n",
       "      <th>96</th>\n",
       "      <td>The Magic of the Lost Temple: Illustrated, eas...</td>\n",
       "      <td>unknown</td>\n",
       "      <td>4.7 out of 5 stars</td>\n",
       "      <td>4,472</td>\n",
       "      <td>Paperback</td>\n",
       "      <td>₹150.00</td>\n",
       "      <td>https://www.amazon.in//Magic-Lost-Temple-Sudha...</td>\n",
       "    </tr>\n",
       "    <tr>\n",
       "      <th>97</th>\n",
       "      <td>Autobiography of a Yogi</td>\n",
       "      <td>Paramahansa Yogananda</td>\n",
       "      <td>4.6 out of 5 stars</td>\n",
       "      <td>5,197</td>\n",
       "      <td>Paperback</td>\n",
       "      <td>₹99.00</td>\n",
       "      <td>https://www.amazon.in//Autobiography-Yogi-Para...</td>\n",
       "    </tr>\n",
       "    <tr>\n",
       "      <th>98</th>\n",
       "      <td>Wings of Fire: An Autobiography of Abdul Kalam</td>\n",
       "      <td>unknown</td>\n",
       "      <td>4.6 out of 5 stars</td>\n",
       "      <td>9,659</td>\n",
       "      <td>Paperback</td>\n",
       "      <td>₹250.00</td>\n",
       "      <td>https://www.amazon.in//Wings-Fire-Autobiograph...</td>\n",
       "    </tr>\n",
       "    <tr>\n",
       "      <th>99</th>\n",
       "      <td>CBSE New Pattern English Language and Literatu...</td>\n",
       "      <td>unknown</td>\n",
       "      <td>3.6 out of 5 stars</td>\n",
       "      <td>23</td>\n",
       "      <td>Paperback</td>\n",
       "      <td>₹105.00</td>\n",
       "      <td>https://www.amazon.in//Pattern-English-Languag...</td>\n",
       "    </tr>\n",
       "  </tbody>\n",
       "</table>\n",
       "<p>100 rows × 7 columns</p>\n",
       "</div>"
      ],
      "text/plain": [
       "                                            Book Name                 Author  \\\n",
       "0                             The Psychology of Money          Morgan Housel   \n",
       "1   My Life in Full: Work, Family, and Our Future ...                unknown   \n",
       "2   My First Library: Boxset of 10 Board Books for...     Wonder House Books   \n",
       "3   Ikigai: The Japanese secret to a long and happ...          Héctor García   \n",
       "4                                            400 Days          Chetan Bhagat   \n",
       "..                                                ...                    ...   \n",
       "95  Certificate Physical And Human Geography; Indi...                unknown   \n",
       "96  The Magic of the Lost Temple: Illustrated, eas...                unknown   \n",
       "97                            Autobiography of a Yogi  Paramahansa Yogananda   \n",
       "98     Wings of Fire: An Autobiography of Abdul Kalam                unknown   \n",
       "99  CBSE New Pattern English Language and Literatu...                unknown   \n",
       "\n",
       "                Rating Customers_Rated   Book_type    Price  \\\n",
       "0   4.6 out of 5 stars          17,905   Paperback  ₹277.00   \n",
       "1              unknown         unknown   Hardcover  ₹524.00   \n",
       "2   4.5 out of 5 stars          37,353  Board book  ₹389.00   \n",
       "3   4.6 out of 5 stars          23,685   Hardcover  ₹318.00   \n",
       "4              unknown         unknown   Paperback  ₹199.00   \n",
       "..                 ...             ...         ...      ...   \n",
       "95  4.5 out of 5 stars           9,004   Paperback  ₹325.00   \n",
       "96  4.7 out of 5 stars           4,472   Paperback  ₹150.00   \n",
       "97  4.6 out of 5 stars           5,197   Paperback   ₹99.00   \n",
       "98  4.6 out of 5 stars           9,659   Paperback  ₹250.00   \n",
       "99  3.6 out of 5 stars              23   Paperback  ₹105.00   \n",
       "\n",
       "                                                 link  \n",
       "0   https://www.amazon.in//Psychology-Money-Morgan...  \n",
       "1   https://www.amazon.in//My-Life-Full-special-Ep...  \n",
       "2   https://www.amazon.in//My-First-Library-Boxset...  \n",
       "3   https://www.amazon.in//Ikigai-H%C3%A9ctor-Garc...  \n",
       "4   https://www.amazon.in//400-Days-Chetan-Bhagat/...  \n",
       "..                                                ...  \n",
       "95  https://www.amazon.in//Certificate-Physics-Hum...  \n",
       "96  https://www.amazon.in//Magic-Lost-Temple-Sudha...  \n",
       "97  https://www.amazon.in//Autobiography-Yogi-Para...  \n",
       "98  https://www.amazon.in//Wings-Fire-Autobiograph...  \n",
       "99  https://www.amazon.in//Pattern-English-Languag...  \n",
       "\n",
       "[100 rows x 7 columns]"
      ]
     },
     "execution_count": 8,
     "metadata": {},
     "output_type": "execute_result"
    }
   ],
   "source": [
    "df"
   ]
  },
  {
   "cell_type": "code",
   "execution_count": null,
   "metadata": {},
   "outputs": [],
   "source": []
  }
 ],
 "metadata": {
  "kernelspec": {
   "display_name": "Python 3",
   "language": "python",
   "name": "python3"
  },
  "language_info": {
   "codemirror_mode": {
    "name": "ipython",
    "version": 3
   },
   "file_extension": ".py",
   "mimetype": "text/x-python",
   "name": "python",
   "nbconvert_exporter": "python",
   "pygments_lexer": "ipython3",
   "version": "3.10.0"
  }
 },
 "nbformat": 4,
 "nbformat_minor": 4
}
