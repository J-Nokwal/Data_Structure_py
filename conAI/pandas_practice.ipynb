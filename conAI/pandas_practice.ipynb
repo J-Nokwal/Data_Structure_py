{
    "cells": [
        {
            "cell_type": "markdown",
            "metadata": {},
            "source": [
                "output feature are never handled when preporocesing, scalling\n"
            ]
        },
        {
            "cell_type": "code",
            "execution_count": null,
            "metadata": {},
            "outputs": [],
            "source": []
        }
    ],
    "metadata": {
        "interpreter": {
            "hash": "7a02a79899adb5d5f5ab3e68ab3cecbce5f0e90fda0964d051a4a0da273b8fcf"
        },
        "kernelspec": {
            "display_name": "Python 3.9.6 64-bit ('ml_lab_env': venv)",
            "name": "python3"
        },
        "language_info": {
            "name": "python",
            "version": "3.10.0"
        },
        "orig_nbformat": 4
    },
    "nbformat": 4,
    "nbformat_minor": 2
}
